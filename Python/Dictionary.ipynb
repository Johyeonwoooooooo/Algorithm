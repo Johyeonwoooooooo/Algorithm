{
 "cells": [
  {
   "cell_type": "markdown",
   "metadata": {},
   "source": [
    "# Dictionary\n",
    "\n",
    "unordered_map과 같은 해쉬테이블 자료구조"
   ]
  },
  {
   "cell_type": "code",
   "execution_count": 4,
   "metadata": {},
   "outputs": [
    {
     "name": "stdout",
     "output_type": "stream",
     "text": [
      "r : 255\n",
      "g : 0\n",
      "b : 128\n",
      "{'red': 255, 'green': 0, 'blue': 128}\n"
     ]
    }
   ],
   "source": [
    "RGB_dictionary = {\"red\" : 255 , \"green\" : 0, \"blue\": 128}\n",
    "\n",
    "print(\"r :\" , RGB_dictionary[\"red\"])\n",
    "print(\"g :\", RGB_dictionary[\"green\"])\n",
    "print(\"b :\", RGB_dictionary[\"blue\"])\n",
    "\n",
    "print(RGB_dictionary)"
   ]
  },
  {
   "cell_type": "code",
   "execution_count": 6,
   "metadata": {},
   "outputs": [
    {
     "name": "stdout",
     "output_type": "stream",
     "text": [
      "dict_items([('red', 255), ('green', 0), ('blue', 128)])\n",
      "dict_keys(['red', 'green', 'blue'])\n",
      "dict_values([255, 0, 128])\n"
     ]
    }
   ],
   "source": [
    "print(RGB_dictionary.items())\n",
    "print(RGB_dictionary.keys())\n",
    "print(RGB_dictionary.values())"
   ]
  },
  {
   "cell_type": "markdown",
   "metadata": {},
   "source": [
    "String Dictionary로 만들기"
   ]
  },
  {
   "cell_type": "code",
   "execution_count": 10,
   "metadata": {},
   "outputs": [
    {
     "name": "stdout",
     "output_type": "stream",
     "text": [
      "['Life', 'is', 'like', 'a', 'box', 'of', 'chocolates']\n",
      "{0: 'Life', 1: 'is', 2: 'like', 3: 'a', 4: 'box', 5: 'of', 6: 'chocolates'}\n",
      "{1: 'Life', 2: 'is', 3: 'like', 4: 'a', 5: 'box', 6: 'of', 7: 'chocolates'}\n"
     ]
    }
   ],
   "source": [
    "vocab_list = \"Life is like a box of chocolates\".split(\" \")\n",
    "print(vocab_list)\n",
    "\n",
    "vocab = dict()\n",
    "for k, v in enumerate(vocab_list):\n",
    "    vocab[k] = v\n",
    "print(vocab)\n",
    "\n",
    "vocab.clear()\n",
    "# make 'vocab' dictionary from a sentence (2)\n",
    "vocab = { k+1 : v for k, v in enumerate(vocab_list)}\n",
    "print(vocab)"
   ]
  },
  {
   "cell_type": "code",
   "execution_count": null,
   "metadata": {},
   "outputs": [],
   "source": []
  }
 ],
 "metadata": {
  "kernelspec": {
   "display_name": "Python 3",
   "language": "python",
   "name": "python3"
  },
  "language_info": {
   "codemirror_mode": {
    "name": "ipython",
    "version": 3
   },
   "file_extension": ".py",
   "mimetype": "text/x-python",
   "name": "python",
   "nbconvert_exporter": "python",
   "pygments_lexer": "ipython3",
   "version": "3.12.0"
  }
 },
 "nbformat": 4,
 "nbformat_minor": 2
}
