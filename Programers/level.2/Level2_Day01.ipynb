{
 "cells": [
  {
   "cell_type": "markdown",
   "metadata": {},
   "source": [
    "# Level.2 Programers\n",
    "\n",
    "Day1_1 : 요격 시스템"
   ]
  },
  {
   "cell_type": "code",
   "execution_count": 1,
   "metadata": {},
   "outputs": [],
   "source": [
    "def solution(targets):\n",
    "    answer = 0\n",
    "    bound = 0\n",
    "\n",
    "    for s, e in sorted(targets):\n",
    "        if bound > s:\n",
    "            bound = min(bound, e)\n",
    "        else:\n",
    "            bound = e\n",
    "            answer += 1\n",
    "\n",
    "    return answer"
   ]
  },
  {
   "cell_type": "markdown",
   "metadata": {},
   "source": [
    "Day1_2 : 두 원 사이의 정수 쌍"
   ]
  },
  {
   "cell_type": "code",
   "execution_count": 2,
   "metadata": {},
   "outputs": [],
   "source": [
    "def solution(r1, r2):\n",
    "    return pointInCircle(r2) - pointInCircle(r1) + boundPoint(r1)\n",
    "\n",
    "def pointInCircle(r):\n",
    "    count = 0\n",
    "    for i in range(1,r):\n",
    "        count += int((r*r-i*i)**(1/2))\n",
    "    count = 4 * count + 4 * r + 1\n",
    "    return count\n",
    "\n",
    "def boundPoint(r):\n",
    "    count = 0\n",
    "    for i in range(1,r):\n",
    "        if int((r*r-i*i)**(1/2)) == (r*r-i*i)**(1/2):\n",
    "            count += 1\n",
    "    count = 4 * count + 4 \n",
    "    return count"
   ]
  },
  {
   "cell_type": "code",
   "execution_count": null,
   "metadata": {},
   "outputs": [],
   "source": []
  }
 ],
 "metadata": {
  "kernelspec": {
   "display_name": "Python 3",
   "language": "python",
   "name": "python3"
  },
  "language_info": {
   "codemirror_mode": {
    "name": "ipython",
    "version": 3
   },
   "file_extension": ".py",
   "mimetype": "text/x-python",
   "name": "python",
   "nbconvert_exporter": "python",
   "pygments_lexer": "ipython3",
   "version": "3.12.0"
  }
 },
 "nbformat": 4,
 "nbformat_minor": 2
}
