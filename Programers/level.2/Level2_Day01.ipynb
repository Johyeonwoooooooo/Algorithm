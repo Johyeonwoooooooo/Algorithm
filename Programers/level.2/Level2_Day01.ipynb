{
 "cells": [
  {
   "cell_type": "markdown",
   "metadata": {},
   "source": [
    "# Level.2 Programers\n",
    "\n",
    "Day1_1 : 요격 시스템"
   ]
  },
  {
   "cell_type": "code",
   "execution_count": 5,
   "metadata": {},
   "outputs": [
    {
     "name": "stdout",
     "output_type": "stream",
     "text": [
      "[[1, 4], [3, 7], [4, 5], [4, 8], [5, 12], [10, 14], [11, 13]]\n"
     ]
    }
   ],
   "source": [
    "targets = [[4,5],[4,8],[10,14],[11,13],[5,12],[3,7],[1,4]]\n",
    "def solution(targets):\n",
    "    answer = 0\n",
    "    bound = 0\n",
    "\n",
    "    for s, e in sorted(targets):\n",
    "        if bound > s:\n",
    "            bound = min(bound, e)\n",
    "        else:\n",
    "            bound = e\n",
    "            answer += 1\n",
    "\n",
    "    return answer\n",
    "print(sorted(targets))"
   ]
  },
  {
   "cell_type": "code",
   "execution_count": null,
   "metadata": {},
   "outputs": [],
   "source": []
  }
 ],
 "metadata": {
  "kernelspec": {
   "display_name": "Python 3",
   "language": "python",
   "name": "python3"
  },
  "language_info": {
   "codemirror_mode": {
    "name": "ipython",
    "version": 3
   },
   "file_extension": ".py",
   "mimetype": "text/x-python",
   "name": "python",
   "nbconvert_exporter": "python",
   "pygments_lexer": "ipython3",
   "version": "3.12.0"
  }
 },
 "nbformat": 4,
 "nbformat_minor": 2
}
