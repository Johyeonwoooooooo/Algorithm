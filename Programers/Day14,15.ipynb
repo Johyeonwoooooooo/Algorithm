{
 "cells": [
  {
   "cell_type": "markdown",
   "metadata": {},
   "source": [
    "# Day14 Programers\n",
    "\n",
    "Day14_1 : 홀수 vs 짝수"
   ]
  },
  {
   "cell_type": "code",
   "execution_count": 5,
   "metadata": {},
   "outputs": [],
   "source": [
    "def solution(num_list):\n",
    "    return max(sum(num_list[0::2]), sum(num_list[1::2]))"
   ]
  },
  {
   "cell_type": "markdown",
   "metadata": {},
   "source": [
    "Day14_2 : 5명씩"
   ]
  },
  {
   "cell_type": "code",
   "execution_count": 6,
   "metadata": {},
   "outputs": [],
   "source": [
    "def solution(names):\n",
    "    return names[::5]"
   ]
  },
  {
   "cell_type": "markdown",
   "metadata": {},
   "source": [
    "Day14_3 : 할 일 목록"
   ]
  },
  {
   "cell_type": "code",
   "execution_count": 10,
   "metadata": {},
   "outputs": [],
   "source": [
    "def solution(todo_list, finished):\n",
    "    answer = []\n",
    "    for i in range(len(finished)):\n",
    "        if not finished[i]:\n",
    "            answer.append(todo_list[i])\n",
    "    return answer"
   ]
  },
  {
   "cell_type": "markdown",
   "metadata": {},
   "source": [
    "Day14_4 : n보다 커질때까지"
   ]
  },
  {
   "cell_type": "code",
   "execution_count": 11,
   "metadata": {},
   "outputs": [],
   "source": [
    "def solution(numbers, n):\n",
    "    for i in range(len(numbers)):\n",
    "        if sum(numbers[:i+1]) > n:\n",
    "            return sum(numbers[:i+1])"
   ]
  },
  {
   "cell_type": "markdown",
   "metadata": {},
   "source": [
    "Day14_5 : 수열과 구간 쿼리1"
   ]
  },
  {
   "cell_type": "code",
   "execution_count": 1,
   "metadata": {},
   "outputs": [],
   "source": [
    "def solution(arr, queries):\n",
    "    for query in queries:\n",
    "        for i in range(query[0], query[1]+1):\n",
    "            arr[i] += 1\n",
    "    \n",
    "    return arr"
   ]
  },
  {
   "cell_type": "markdown",
   "metadata": {},
   "source": [
    "# Day15 Programers\n",
    "\n",
    "Day15_1 : 조건에 맞게 수열 변환1"
   ]
  },
  {
   "cell_type": "code",
   "execution_count": 2,
   "metadata": {},
   "outputs": [],
   "source": [
    "def solution(arr):\n",
    "    for i in range(len(arr)):\n",
    "        if arr[i] >= 50 and arr[i] % 2 == 0:\n",
    "            arr[i] = arr[i] / 2\n",
    "        elif arr[i] < 50 and arr[i] % 2 == 1:\n",
    "            arr[i] = arr[i] * 2\n",
    "    return arr"
   ]
  },
  {
   "cell_type": "markdown",
   "metadata": {},
   "source": [
    "Day15_2 : 조건에 맞게 수열 변환2"
   ]
  },
  {
   "cell_type": "code",
   "execution_count": 3,
   "metadata": {},
   "outputs": [],
   "source": [
    "def solution(arr):\n",
    "    answer = -1\n",
    "    pre = arr\n",
    "    post = []\n",
    "    \n",
    "    while pre != post:\n",
    "        answer += 1\n",
    "        post = pre.copy()\n",
    "        for i in range(len(pre)):\n",
    "            if pre[i] >= 50 and pre[i] % 2 == 0:\n",
    "                pre[i] = pre[i] / 2\n",
    "            elif pre[i] < 50 and pre[i] % 2 == 1:\n",
    "                pre[i] = pre[i] * 2 + 1\n",
    "        \n",
    "    \n",
    "    return answer"
   ]
  },
  {
   "cell_type": "markdown",
   "metadata": {},
   "source": [
    "Day15_3 : 1로 만들기"
   ]
  },
  {
   "cell_type": "code",
   "execution_count": 6,
   "metadata": {},
   "outputs": [],
   "source": [
    "def solution(num_list):\n",
    "    answer = 0\n",
    "    for i in range(len(num_list)):\n",
    "        while num_list[i] != 1:\n",
    "            answer+=1\n",
    "            if num_list[i] % 2 ==0:\n",
    "                num_list[i] = num_list[i]/2\n",
    "            else: \n",
    "                num_list[i] = (num_list[i]-1)/2\n",
    "    return answer\n",
    "\n",
    "# return sum(len(bin(i)) -3 for i in num_list) 가능\n",
    "# 결국 저 연산은 1bit씩 미는 연산임"
   ]
  },
  {
   "cell_type": "markdown",
   "metadata": {},
   "source": [
    " Day15_4 : 길이에 따른 연산"
   ]
  },
  {
   "cell_type": "code",
   "execution_count": 7,
   "metadata": {},
   "outputs": [],
   "source": [
    "def solution(num_list):\n",
    "    if len(num_list) > 10:\n",
    "        return sum(num_list)\n",
    "    else:\n",
    "        result = 1\n",
    "        for n in num_list:\n",
    "            result *= n\n",
    "        return result"
   ]
  },
  {
   "cell_type": "markdown",
   "metadata": {},
   "source": [
    "Day15_5 : 원하는 문자열 찾기"
   ]
  },
  {
   "cell_type": "code",
   "execution_count": 13,
   "metadata": {},
   "outputs": [],
   "source": [
    "def solution(myString, pat):\n",
    "    if len(pat) <= len(myString):\n",
    "        for i in range(len(myString) - len(pat)+1):\n",
    "            if pat.lower() == myString[i:i+len(pat)].lower():\n",
    "                return 1\n",
    "            \n",
    "    return 0\n",
    "\n",
    "# in 이라는 함수 있음 뻘짓 ㄴㄴ \n",
    "# return int(pat.lower() in myString.lower()) 끝"
   ]
  },
  {
   "cell_type": "code",
   "execution_count": null,
   "metadata": {},
   "outputs": [],
   "source": []
  }
 ],
 "metadata": {
  "kernelspec": {
   "display_name": "Python 3",
   "language": "python",
   "name": "python3"
  },
  "language_info": {
   "codemirror_mode": {
    "name": "ipython",
    "version": 3
   },
   "file_extension": ".py",
   "mimetype": "text/x-python",
   "name": "python",
   "nbconvert_exporter": "python",
   "pygments_lexer": "ipython3",
   "version": "3.12.0"
  }
 },
 "nbformat": 4,
 "nbformat_minor": 2
}
