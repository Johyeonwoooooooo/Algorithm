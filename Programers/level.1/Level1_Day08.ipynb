{
 "cells": [
  {
   "cell_type": "markdown",
   "metadata": {},
   "source": [
    "# Level.1 Programers\n",
    "\n",
    "Day8_1 : 명예의 전당 (1)\n"
   ]
  },
  {
   "cell_type": "code",
   "execution_count": 1,
   "metadata": {},
   "outputs": [],
   "source": [
    "def solution(k, score):\n",
    "    honorList = []\n",
    "    answer = []\n",
    "    for dayScore in score:\n",
    "        if len(honorList) < k:\n",
    "            honorList.append(dayScore)\n",
    "        else:\n",
    "            if min(honorList) < dayScore:\n",
    "                honorList.remove(min(honorList))\n",
    "                honorList.append(dayScore)\n",
    "        answer.append(min(honorList))\n",
    "    return answer"
   ]
  },
  {
   "cell_type": "markdown",
   "metadata": {},
   "source": [
    "Day8_2 : 기사단원의 무기\n"
   ]
  },
  {
   "cell_type": "code",
   "execution_count": 14,
   "metadata": {},
   "outputs": [],
   "source": [
    "def solution(number, limit, power):\n",
    "    answer = 0\n",
    "    \n",
    "    for knight in range(1,number+1):\n",
    "        divisor = divisorNum(knight)\n",
    "        if divisor > limit:\n",
    "            answer += power\n",
    "        else:\n",
    "            answer += divisor\n",
    "    return answer\n",
    "\n",
    "def divisorNum(num):\n",
    "    cnt = 0\n",
    "    for i in range(1, int(num**(1/2))+1):\n",
    "        if i*i == num:\n",
    "            cnt += 1\n",
    "        elif num % i == 0:\n",
    "            cnt += 2\n",
    "    return cnt"
   ]
  },
  {
   "cell_type": "code",
   "execution_count": null,
   "metadata": {},
   "outputs": [],
   "source": []
  }
 ],
 "metadata": {
  "kernelspec": {
   "display_name": "Python 3",
   "language": "python",
   "name": "python3"
  },
  "language_info": {
   "codemirror_mode": {
    "name": "ipython",
    "version": 3
   },
   "file_extension": ".py",
   "mimetype": "text/x-python",
   "name": "python",
   "nbconvert_exporter": "python",
   "pygments_lexer": "ipython3",
   "version": "3.12.0"
  }
 },
 "nbformat": 4,
 "nbformat_minor": 2
}
