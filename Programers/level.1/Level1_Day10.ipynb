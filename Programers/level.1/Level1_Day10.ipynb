{
 "cells": [
  {
   "cell_type": "markdown",
   "metadata": {},
   "source": [
    "# Level.1 Programers\n",
    "\n",
    "Day10_1 : 햄버거 만들기"
   ]
  },
  {
   "cell_type": "code",
   "execution_count": 21,
   "metadata": {},
   "outputs": [],
   "source": [
    "def solution(ingredient):\n",
    "    stack = []\n",
    "    answer = 0\n",
    "    \n",
    "    for ele in ingredient:\n",
    "        stack.append(ele)\n",
    "        if stack[-4:] == [1,2,3,1]:\n",
    "            answer += 1\n",
    "            del stack[-4:]\n",
    "    return answer"
   ]
  },
  {
   "cell_type": "markdown",
   "metadata": {},
   "source": [
    "Day10_2 : 옹알이(2)"
   ]
  },
  {
   "cell_type": "code",
   "execution_count": 1,
   "metadata": {},
   "outputs": [],
   "source": [
    "def solution(babbling):\n",
    "    answer = 0\n",
    "    lang = ['aya', 'ye', 'woo', 'ma']\n",
    "    \n",
    "    for babble in babbling:\n",
    "        for l in lang:\n",
    "            if l*2 not in babble:\n",
    "                babble = babble.replace(l, ' ')\n",
    "                 # yayae 인 경우 ''로 대체하면 yayae -> ye가 되어서 가능한 말로 됨 그래서 공백으로 replace\n",
    "                \n",
    "        if babble.isspace():\n",
    "            answer += 1\n",
    "    return answer\n"
   ]
  },
  {
   "cell_type": "code",
   "execution_count": null,
   "metadata": {},
   "outputs": [],
   "source": []
  }
 ],
 "metadata": {
  "kernelspec": {
   "display_name": "Python 3",
   "language": "python",
   "name": "python3"
  },
  "language_info": {
   "codemirror_mode": {
    "name": "ipython",
    "version": 3
   },
   "file_extension": ".py",
   "mimetype": "text/x-python",
   "name": "python",
   "nbconvert_exporter": "python",
   "pygments_lexer": "ipython3",
   "version": "3.12.0"
  }
 },
 "nbformat": 4,
 "nbformat_minor": 2
}
