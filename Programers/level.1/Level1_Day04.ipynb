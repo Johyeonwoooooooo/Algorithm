{
 "cells": [
  {
   "cell_type": "markdown",
   "metadata": {},
   "source": [
    "# Level.1 Programers \n",
    "\n",
    "Day4_1 : 바탕화면 정리"
   ]
  },
  {
   "cell_type": "code",
   "execution_count": 24,
   "metadata": {},
   "outputs": [],
   "source": [
    "def solution(wallpaper):\n",
    "    return findStart(wallpaper) + findEnd(wallpaper)\n",
    "\n",
    "def findStart(wallpaper):\n",
    "    row, col = 0,0\n",
    "    for i, line in enumerate(wallpaper):\n",
    "        if '#' in line:\n",
    "            row = i\n",
    "            break\n",
    "\n",
    "    for i in range(len(wallpaper[0])):\n",
    "        if '#' in [wallpaper[j][i] for j in range(len(wallpaper))]:\n",
    "            col = i\n",
    "            break\n",
    "        \n",
    "    return [row,col]\n",
    "\n",
    "def findEnd(wallpaper):\n",
    "    row, col = 0,0\n",
    "    for i in range(len(wallpaper)-1, -1, -1):\n",
    "        if '#' in wallpaper[i][:]:\n",
    "            row = i\n",
    "            break\n",
    "\n",
    "    for i in range(len(wallpaper[0])-1, -1, -1):\n",
    "        if '#' in [wallpaper[j][i] for j in range(len(wallpaper)-1, -1, -1)]:\n",
    "            col = i\n",
    "            break\n",
    "        \n",
    "    return [row+1 ,col+1]"
   ]
  },
  {
   "cell_type": "code",
   "execution_count": 22,
   "metadata": {},
   "outputs": [
    {
     "name": "stdout",
     "output_type": "stream",
     "text": [
      "0\n",
      "1\n",
      "2\n",
      "3\n",
      "[0, 1, 2, 3]\n"
     ]
    }
   ],
   "source": [
    "wallpaper = [\".#...\", \"..#..\", \"...#.\"]\n",
    "print(solution(wallpaper))"
   ]
  },
  {
   "cell_type": "code",
   "execution_count": 23,
   "metadata": {},
   "outputs": [
    {
     "name": "stdout",
     "output_type": "stream",
     "text": [
      "1\n",
      "3\n",
      "4\n",
      "7\n",
      "[1, 3, 4, 7]\n"
     ]
    }
   ],
   "source": [
    "wallpaper = [\"..........\", \".....#....\", \"......##..\", \"...##.....\", \"....#.....\"]\n",
    "print(solution(wallpaper))"
   ]
  },
  {
   "cell_type": "markdown",
   "metadata": {},
   "source": [
    "Day4_2 : 덧칠하기"
   ]
  },
  {
   "cell_type": "code",
   "execution_count": 25,
   "metadata": {},
   "outputs": [],
   "source": [
    "def solution(n, m, section):\n",
    "    count = 0\n",
    "    idx = 0\n",
    "\n",
    "    for point in section:\n",
    "        if idx == 0:\n",
    "            count += 1\n",
    "            idx = point\n",
    "        else:\n",
    "            if idx + m > point:\n",
    "                continue\n",
    "            count += 1\n",
    "            idx = point\n",
    "\n",
    "\n",
    "    return count"
   ]
  },
  {
   "cell_type": "markdown",
   "metadata": {},
   "source": [
    "Day4_3 : 대충 만든 자판"
   ]
  },
  {
   "cell_type": "code",
   "execution_count": null,
   "metadata": {},
   "outputs": [],
   "source": [
    "def solution(keymap, targets):\n",
    "    buttonKey = dict()\n",
    "    answer = []\n",
    "    for key in keymap:\n",
    "        for i, char in enumerate(key):\n",
    "            if char in buttonKey.keys():\n",
    "                if buttonKey[char] > i+1:\n",
    "                    buttonKey[char] = i+1\n",
    "            else:\n",
    "                buttonKey[char] = i+1 \n",
    "\n",
    "    for target in targets:\n",
    "        answer.append(countClick(buttonKey, target))\n",
    "\n",
    "    return answer\n",
    "\n",
    "def countClick(buttonKey, target):\n",
    "        count = 0\n",
    "        for char in target:\n",
    "            if char in buttonKey.keys():\n",
    "                count += buttonKey[char]\n",
    "            else:\n",
    "                return -1\n",
    "        return count"
   ]
  }
 ],
 "metadata": {
  "kernelspec": {
   "display_name": "Python 3",
   "language": "python",
   "name": "python3"
  },
  "language_info": {
   "codemirror_mode": {
    "name": "ipython",
    "version": 3
   },
   "file_extension": ".py",
   "mimetype": "text/x-python",
   "name": "python",
   "nbconvert_exporter": "python",
   "pygments_lexer": "ipython3",
   "version": "3.12.0"
  }
 },
 "nbformat": 4,
 "nbformat_minor": 2
}
