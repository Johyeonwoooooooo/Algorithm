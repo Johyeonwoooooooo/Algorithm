{
 "cells": [
  {
   "cell_type": "markdown",
   "metadata": {},
   "source": [
    "# Level.1 Programers\n",
    "\n",
    "Day9_1 : 과일장수"
   ]
  },
  {
   "cell_type": "code",
   "execution_count": null,
   "metadata": {},
   "outputs": [],
   "source": [
    "def solution(k, m, score):\n",
    "    apple = sorted(score)[::-1]\n",
    "    return sum(apple[m-1::m]) * m\n"
   ]
  },
  {
   "cell_type": "markdown",
   "metadata": {},
   "source": [
    "Day9_2 : 푸드 파이트 대회"
   ]
  },
  {
   "cell_type": "code",
   "execution_count": null,
   "metadata": {},
   "outputs": [],
   "source": [
    "def solution(food):\n",
    "    answer = '0'\n",
    "    index = len(food)\n",
    "    for i, num in enumerate(reversed(food)):\n",
    "        index -= 1\n",
    "        if index != 0:\n",
    "            appendstr = str(index) * (num // 2)\n",
    "            answer =  appendstr + answer + appendstr\n",
    "    return answer"
   ]
  }
 ],
 "metadata": {
  "language_info": {
   "name": "python"
  }
 },
 "nbformat": 4,
 "nbformat_minor": 2
}
