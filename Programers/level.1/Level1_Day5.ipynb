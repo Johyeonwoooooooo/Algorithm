{
 "cells": [
  {
   "cell_type": "markdown",
   "metadata": {},
   "source": [
    "# Level.1 Programers\n",
    "\n",
    "Day5_1 : 둘 만의 암호"
   ]
  },
  {
   "cell_type": "code",
   "execution_count": null,
   "metadata": {},
   "outputs": [],
   "source": [
    "def solution(s, skip, index):\n",
    "    answer = ''\n",
    "    alphabet = [chr(i) for i in range(97,123)]\n",
    "    for skipalphabet in skip:\n",
    "        alphabet.remove(skipalphabet)\n",
    "        \n",
    "    for c in s:\n",
    "        idx = (alphabet.index(c) + index) % len(alphabet)\n",
    "        answer += alphabet[idx]\n",
    "        \n",
    "    return answer"
   ]
  },
  {
   "cell_type": "markdown",
   "metadata": {},
   "source": [
    "Day5_2 : 크기가 작은 부분 문자열"
   ]
  },
  {
   "cell_type": "code",
   "execution_count": null,
   "metadata": {},
   "outputs": [],
   "source": [
    "def solution(t, p):\n",
    "    answer = 0\n",
    "    for i in range (len(t) - len(p) + 1):\n",
    "        if t[i:i+len(p)] <= p:\n",
    "            answer += 1\n",
    "            \n",
    "    return answer"
   ]
  },
  {
   "cell_type": "code",
   "execution_count": null,
   "metadata": {},
   "outputs": [],
   "source": []
  }
 ],
 "metadata": {
  "kernelspec": {
   "display_name": "Python 3",
   "language": "python",
   "name": "python3"
  },
  "language_info": {
   "name": "python",
   "version": "3.12.1"
  }
 },
 "nbformat": 4,
 "nbformat_minor": 2
}
