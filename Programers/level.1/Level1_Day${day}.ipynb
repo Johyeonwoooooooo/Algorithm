{
 "cells": [
  {
   "cell_type": "markdown",
   "metadata": {},
   "source": [
    "# Level.1 Programers\n",
    "\n",
    "Day${}_1 : 카드 뭉치"
   ]
  },
  {
   "cell_type": "code",
   "execution_count": 1,
   "metadata": {},
   "outputs": [],
   "source": [
    "def solution(cards1, cards2, goal):\n",
    "    for word in goal:\n",
    "        if checkList(cards1, word):\n",
    "            cards1.pop(0)\n",
    "        elif checkList(cards2, word):\n",
    "            cards2.pop(0)\n",
    "        else:\n",
    "            return 'No'\n",
    "            \n",
    "    return 'Yes'\n",
    "\n",
    "def checkList(cards, word):\n",
    "    if len(cards) > 0:\n",
    "        if cards[0] == word:\n",
    "            return True\n",
    "    \n",
    "    return False"
   ]
  },
  {
   "cell_type": "markdown",
   "metadata": {},
   "source": [
    "Day${day}_2 : 2023 KAKAO BLIND RECRUITMENT 개인 정보 수집기간"
   ]
  },
  {
   "cell_type": "code",
   "execution_count": null,
   "metadata": {},
   "outputs": [],
   "source": [
    "def solution(today, terms, privacies):\n",
    "    privacyTerm = dict()\n",
    "    answer = []\n",
    "    today_int = [int(x) for x in today.split('.')]\n",
    "    for term in terms:\n",
    "        privacy, period = term.split()[0], term.split()[1]\n",
    "        privacyTerm[privacy] = int(period)\n",
    "        \n",
    "    for i, privacy in enumerate(privacies):\n",
    "        consentDay, priv = privacy.split()\n",
    "        consentDay = [int(x) for x in consentDay.split('.')]\n",
    "        \n",
    "        consentDay[1] += privacyTerm[priv]\n",
    "        if consentDay[1] > 12:\n",
    "            consentDay[0] += consentDay[1] // 12\n",
    "            consentDay[1] = consentDay[1] % 12\n",
    "            \n",
    "            if consentDay[1] == 0:\n",
    "                consentDay[1] = 12\n",
    "                consentDay[0] -= 1\n",
    "                \n",
    "        if consentDay <= today_int:\n",
    "            answer.append(i+1)\n",
    "        \n",
    "    return answer"
   ]
  },
  {
   "cell_type": "code",
   "execution_count": null,
   "metadata": {},
   "outputs": [],
   "source": []
  }
 ],
 "metadata": {
  "kernelspec": {
   "display_name": "Python 3",
   "language": "python",
   "name": "python3"
  },
  "language_info": {
   "codemirror_mode": {
    "name": "ipython",
    "version": 3
   },
   "file_extension": ".py",
   "mimetype": "text/x-python",
   "name": "python",
   "nbconvert_exporter": "python",
   "pygments_lexer": "ipython3",
   "version": "3.12.1"
  }
 },
 "nbformat": 4,
 "nbformat_minor": 2
}
