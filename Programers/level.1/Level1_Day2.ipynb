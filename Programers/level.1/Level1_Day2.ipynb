{
 "cells": [
  {
   "cell_type": "markdown",
   "metadata": {},
   "source": [
    "# Level.1 Programers\n",
    "\n",
    "Day2_1 : [PCCE 기출문제] 9번 / 이웃한 칸"
   ]
  },
  {
   "cell_type": "code",
   "execution_count": null,
   "metadata": {},
   "outputs": [],
   "source": [
    "def solution(board, h, w):\n",
    "    count = 0\n",
    "    dh = [0,1,-1,0]\n",
    "    dw = [1,0,0,-1]\n",
    "    n = len(board)\n",
    "    \n",
    "    for i in range(4):\n",
    "        h_check = h + dh[i]\n",
    "        w_check = w + dw[i]\n",
    "        \n",
    "        if 0 <= h_check and h_check < n and 0<= w_check and w_check < n:\n",
    "            if board[h][w] == board[h_check][w_check]:\n",
    "                count += 1\n",
    "        \n",
    "    return count"
   ]
  },
  {
   "cell_type": "code",
   "execution_count": null,
   "metadata": {},
   "outputs": [],
   "source": [
    "def solution(board, h, w):\n",
    "    count = 0\n",
    "    \n",
    "    if h > 0:\n",
    "        if board[h][w] == board[h-1][w]:\n",
    "            count += 1\n",
    "        \n",
    "    if h < len(board) - 1:\n",
    "        if board[h][w] == board[h+1][w]:\n",
    "            count += 1\n",
    "        \n",
    "    if w > 0:\n",
    "        if board[h][w] == board[h][w-1]:\n",
    "            count += 1\n",
    "        \n",
    "    if w < len(board) - 1:\n",
    "        if board[h][w] == board[h][w+1]:\n",
    "            count += 1\n",
    "        \n",
    "    return count\n",
    "\n",
    "# 이거 조건문에 한번에 때려박으면 런타임에러남 -> 비교연산도 다 하니까"
   ]
  },
  {
   "cell_type": "markdown",
   "metadata": {},
   "source": [
    "Day2_2 : [PCCE 기출문제] 10번 / 데이터 분석"
   ]
  },
  {
   "cell_type": "code",
   "execution_count": null,
   "metadata": {},
   "outputs": [],
   "source": [
    "def solution(data, ext, val_ext, sort_by):\n",
    "    hash = dict()\n",
    "    hash['code'] = 0\n",
    "    hash['date'] = 1\n",
    "    hash['maximum'] = 2\n",
    "    hash['remain'] = 3\n",
    "    \n",
    "    answer = [ele for i, ele in enumerate(data) if data[i][hash[ext]] < val_ext]\n",
    "    return sorted(answer, key=lambda x : x[hash[sort_by]])"
   ]
  },
  {
   "cell_type": "markdown",
   "metadata": {},
   "source": [
    "Day2_3 : 달리기 경주"
   ]
  },
  {
   "cell_type": "code",
   "execution_count": null,
   "metadata": {},
   "outputs": [],
   "source": [
    "def solution(players, callings):\n",
    "    index = dict()\n",
    "    for i, player in enumerate(players):\n",
    "        index[player] = i\n",
    "        \n",
    "    for player in callings:\n",
    "        idx = index[player]\n",
    "        tmp = players[idx]\n",
    "        players[idx] = players[idx-1]\n",
    "        players[idx-1] = tmp\n",
    "        \n",
    "        index[player] -= 1\n",
    "        index[players[idx]] += 1\n",
    "    return players"
   ]
  }
 ],
 "metadata": {
  "language_info": {
   "name": "python"
  }
 },
 "nbformat": 4,
 "nbformat_minor": 2
}
