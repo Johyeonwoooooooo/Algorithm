{
 "cells": [
  {
   "cell_type": "markdown",
   "metadata": {},
   "source": [
    "# Level.1 Programers\n",
    "\n",
    "Day3_1 : 추억점수"
   ]
  },
  {
   "cell_type": "code",
   "execution_count": null,
   "metadata": {},
   "outputs": [],
   "source": [
    "def solution(name, yearning, photo):\n",
    "    answer = [0 for i in range(len(photo))]\n",
    "    yearning_score = dict()\n",
    "    for i in range(len(name)):\n",
    "        yearning_score[name[i]] = yearning[i]\n",
    "    \n",
    "    for i in range(len(photo)):\n",
    "        answer[i] = calc_score(yearning_score, photo[i])\n",
    "        \n",
    "    return answer\n",
    "\n",
    "def calc_score(yearning_score, photo):\n",
    "    return sum([yearning_score[people] for people in photo if not yearning_score.get(people) == None])"
   ]
  },
  {
   "cell_type": "markdown",
   "metadata": {},
   "source": [
    "Day3_2 : 공원 산책"
   ]
  },
  {
   "cell_type": "code",
   "execution_count": null,
   "metadata": {},
   "outputs": [],
   "source": [
    "def solution(park, routes):\n",
    "    park_size = [len(park), len(park[0])]\n",
    "    pos = start_pos(park)\n",
    "    \n",
    "    for route in routes:\n",
    "        direction, amount = route.split()\n",
    "        amount = int(amount)\n",
    "        if checkIndex(direction, amount, pos, park_size):\n",
    "            if checkBarrier(direction, amount, pos, park):\n",
    "                pos = updatePos(direction, amount, pos)\n",
    "    return pos\n",
    "\n",
    "def start_pos(park):\n",
    "    for i in range(len(park)):\n",
    "        for j in range(len(park[0])):\n",
    "            if park[i][j] == 'S':\n",
    "                return [i, j]\n",
    "\n",
    "def checkIndex(direction, amount, pos, park_size):\n",
    "    if direction == 'E':\n",
    "        return pos[1] + amount < park_size[1]\n",
    "    elif direction == 'W':\n",
    "        return pos[1] - amount >= 0\n",
    "    elif direction == 'N':\n",
    "        return pos[0] - amount >= 0\n",
    "    elif direction == 'S':\n",
    "        return pos[0] + amount < park_size[0]\n",
    "\n",
    "def checkBarrier(direction, amount, pos, park):\n",
    "    if direction == 'E':\n",
    "        return 'X' not in park[pos[0]][pos[1]:pos[1] + amount + 1]\n",
    "    elif direction == 'W':\n",
    "        return 'X' not in park[pos[0]][pos[1] - amount:pos[1]]\n",
    "    elif direction == 'N':\n",
    "        # 여기서 for문 쓴 이유 : 슬라이싱이 뒤에 있을 경우는 상관없지만, 슬라이싱이 앞에 있으면 슬라이싱 한 후 뒤 인덱스를 계산하기에 \n",
    "        # 내가 의도하지 않은 쪽으로 흘러갈 수 있음.\n",
    "        # ex) park = [\"OSO\", \"OOO\", \"OXO\", \"OOO\"], park[2 - 2 : 2][1] 하면 -> [\"OSO\", \"OOO\"]로 슬라이싱하고, 1번 인덱스인 \"OOO\"가 출력됨\n",
    "        return 'X' not in [park[i][pos[1]] for i in range(pos[0]-amount, pos[0])]\n",
    "    elif direction == 'S':\n",
    "        return 'X' not in [park[i][pos[1]] for i in range(pos[0]+1, pos[0]+amount+1)]\n",
    "\n",
    "def updatePos(direction, amount, pos):\n",
    "    if direction == 'E':\n",
    "        return [pos[0], pos[1] + amount]\n",
    "    elif direction == 'W':\n",
    "        return [pos[0], pos[1] - amount]\n",
    "    elif direction == 'N':\n",
    "        return [pos[0] - amount, pos[1]]\n",
    "    elif direction == 'S':\n",
    "        return [pos[0] + amount, pos[1]]\n"
   ]
  }
 ],
 "metadata": {
  "language_info": {
   "name": "python"
  }
 },
 "nbformat": 4,
 "nbformat_minor": 2
}
