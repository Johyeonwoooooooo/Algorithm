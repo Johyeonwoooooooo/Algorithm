{
 "cells": [
  {
   "cell_type": "markdown",
   "metadata": {},
   "source": [
    "# Level.1 Programers\n",
    "\n",
    "Day9_1 : 과일장수"
   ]
  },
  {
   "cell_type": "code",
   "execution_count": 1,
   "metadata": {},
   "outputs": [],
   "source": [
    "def solution(k, m, score):\n",
    "    apple = sorted(score)[::-1]\n",
    "    return sum(apple[m-1::m]) * m"
   ]
  },
  {
   "cell_type": "markdown",
   "metadata": {},
   "source": [
    "Day9_2 : 푸드 파이트 대회"
   ]
  },
  {
   "cell_type": "code",
   "execution_count": 2,
   "metadata": {},
   "outputs": [],
   "source": [
    "def solution(food):\n",
    "    answer = '0'\n",
    "    index = len(food)\n",
    "    for i, num in enumerate(reversed(food)):\n",
    "        index -= 1\n",
    "        if index != 0:\n",
    "            appendstr = str(index) * (num // 2)\n",
    "            answer =  appendstr + answer + appendstr\n",
    "    return answer"
   ]
  },
  {
   "cell_type": "code",
   "execution_count": null,
   "metadata": {},
   "outputs": [],
   "source": []
  }
 ],
 "metadata": {
  "kernelspec": {
   "display_name": "Python 3",
   "language": "python",
   "name": "python3"
  },
  "language_info": {
   "codemirror_mode": {
    "name": "ipython",
    "version": 3
   },
   "file_extension": ".py",
   "mimetype": "text/x-python",
   "name": "python",
   "nbconvert_exporter": "python",
   "pygments_lexer": "ipython3",
   "version": "3.12.0"
  }
 },
 "nbformat": 4,
 "nbformat_minor": 2
}
