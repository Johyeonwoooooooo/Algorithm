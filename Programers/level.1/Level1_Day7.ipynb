{
 "cells": [
  {
   "cell_type": "markdown",
   "metadata": {},
   "source": [
    "# Level.1 Programers\n",
    "\n",
    "Day7_1 : 가장 가까운 같은 글자"
   ]
  },
  {
   "cell_type": "code",
   "execution_count": null,
   "metadata": {},
   "outputs": [],
   "source": [
    "def solution(s):\n",
    "    answer = []\n",
    "    index = dict()\n",
    "    for i, char in enumerate(s):\n",
    "        if char not in index:\n",
    "            answer.append(-1)\n",
    "        else:\n",
    "            answer.append(i - index[char])\n",
    "\n",
    "        index[char] = i\n",
    "    return answer\n",
    "    "
   ]
  },
  {
   "cell_type": "markdown",
   "metadata": {},
   "source": [
    "Day7_2 : 문자열 나누기"
   ]
  },
  {
   "cell_type": "code",
   "execution_count": null,
   "metadata": {},
   "outputs": [],
   "source": [
    "def solution(s):\n",
    "    answer = 0\n",
    "    cnt1=0 \n",
    "    cnt2=0\n",
    "    for i in s:\n",
    "        if cnt1==cnt2:\n",
    "            answer+=1\n",
    "            first=i\n",
    "        if first==i:\n",
    "            cnt1+=1\n",
    "        else:\n",
    "            cnt2+=1\n",
    "    return answer"
   ]
  },
  {
   "cell_type": "code",
   "execution_count": null,
   "metadata": {},
   "outputs": [],
   "source": []
  }
 ],
 "metadata": {
  "kernelspec": {
   "display_name": "Python 3",
   "language": "python",
   "name": "python3"
  },
  "language_info": {
   "name": "python",
   "version": "3.12.1"
  }
 },
 "nbformat": 4,
 "nbformat_minor": 2
}
