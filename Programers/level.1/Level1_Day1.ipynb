{
 "cells": [
  {
   "cell_type": "markdown",
   "metadata": {},
   "source": []
  },
  {
   "cell_type": "markdown",
   "metadata": {},
   "source": [
    "# Level.1 Programers\n",
    "\n",
    "Day1_1 : 2024 KAKAO WINTER INTERNSHIP : 가장 많이 받은 선물"
   ]
  },
  {
   "cell_type": "code",
   "execution_count": 35,
   "metadata": {},
   "outputs": [],
   "source": [
    "def solution(friends, gifts):\n",
    "    answer = dict.fromkeys(friends, 0)\n",
    "    gift_stats = dict()\n",
    "\n",
    "    for user in friends:\n",
    "        gift_stats[user] = dict()\n",
    "        for friend in friends:\n",
    "            if not user == friend:\n",
    "                gift_stats[user][friend] = 0\n",
    "\n",
    "    for gift in gifts:\n",
    "        sender = gift.split()[0]\n",
    "        receiver = gift.split()[1]\n",
    "\n",
    "        gift_stats[sender][receiver] += 1\n",
    "    \n",
    "    for i in range(len(friends) - 1):\n",
    "        for j in range(i+1, len(friends)):\n",
    "            index = calc_gift(gift_stats,friends[i], friends[j])\n",
    "            if not index == '':\n",
    "                answer[index] += 1\n",
    "\n",
    "    return max(answer.values())\n",
    "\n",
    "def calc_gift(gift_stat, user1, user2):\n",
    "    if gift_stat[user1][user2] > gift_stat[user2][user1]:\n",
    "        return user1\n",
    "    elif gift_stat[user1][user2] < gift_stat[user2][user1]:\n",
    "        return user2\n",
    "    else:\n",
    "        user1_giftscore = sum(gift_stat[user1].values())\n",
    "        user2_giftscore = sum(gift_stat[user2].values())\n",
    "\n",
    "        for user in gift_stat.keys():\n",
    "            if not user == user1:\n",
    "                user1_giftscore -= gift_stat[user][user1] \n",
    "            if not user == user2:\n",
    "                user2_giftscore -= gift_stat[user][user2]\n",
    "        \n",
    "        if user1_giftscore > user2_giftscore:\n",
    "            return user1\n",
    "        elif user1_giftscore < user2_giftscore:\n",
    "            return user2\n",
    "        else:\n",
    "            return ''"
   ]
  },
  {
   "cell_type": "markdown",
   "metadata": {},
   "source": [
    "Day1_2 : PCCP 기출문제 : 1번/붕대감기"
   ]
  },
  {
   "cell_type": "code",
   "execution_count": 45,
   "metadata": {},
   "outputs": [
    {
     "name": "stdout",
     "output_type": "stream",
     "text": [
      "[0, 1, 1, 0, 0, 0, 0, 0, 0, 0, 1]\n"
     ]
    }
   ],
   "source": [
    "def solution(bandage, health, attacks):\n",
    "    hp = health\n",
    "    pre = 0\n",
    "    for i,attack in enumerate(attacks):\n",
    "        if i > 0:\n",
    "            heal_time = attack[0] - pre - 1\n",
    "            hp += bandage[1] * heal_time\n",
    "            hp += bandage[2] * (heal_time // bandage[0])\n",
    "        \n",
    "        if hp > health:\n",
    "            hp = health\n",
    "            \n",
    "        hp -= attack[1]\n",
    "        if hp <= 0:\n",
    "            return -1\n",
    "        \n",
    "        \n",
    "        pre = attack[0]\n",
    "    return hp"
   ]
  },
  {
   "cell_type": "code",
   "execution_count": null,
   "metadata": {},
   "outputs": [],
   "source": []
  }
 ],
 "metadata": {
  "kernelspec": {
   "display_name": "Python 3",
   "language": "python",
   "name": "python3"
  },
  "language_info": {
   "codemirror_mode": {
    "name": "ipython",
    "version": 3
   },
   "file_extension": ".py",
   "mimetype": "text/x-python",
   "name": "python",
   "nbconvert_exporter": "python",
   "pygments_lexer": "ipython3",
   "version": "3.12.0"
  }
 },
 "nbformat": 4,
 "nbformat_minor": 2
}
