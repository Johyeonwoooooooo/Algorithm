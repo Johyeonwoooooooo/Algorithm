{
 "cells": [
  {
   "cell_type": "markdown",
   "metadata": {},
   "source": [
    "# Level.1 Programers\n",
    "\n",
    "Day1_1 : 2024 KAKAO WINTER INTERNSHIP"
   ]
  },
  {
   "cell_type": "code",
   "execution_count": 17,
   "metadata": {},
   "outputs": [
    {
     "name": "stdout",
     "output_type": "stream",
     "text": [
      "{'muzi': {'ryan': 0, 'frodo': 2, 'neo': 0}, 'ryan': {'muzi': 3, 'frodo': 0, 'neo': 0}, 'frodo': {'muzi': 1, 'ryan': 1, 'neo': 0}, 'neo': {'muzi': 1, 'ryan': 0, 'frodo': 0}}\n"
     ]
    }
   ],
   "source": [
    "def solution(friends, gifts):\n",
    "    answer = dict()\n",
    "    gift_stats = dict()\n",
    "    for user in friends:\n",
    "        answer[user] = 0\n",
    "        gift_stats[user] = dict()\n",
    "        for friend in friends:\n",
    "            if not user == friend:\n",
    "                gift_stats[user][friend] = 0\n",
    "\n",
    "    for gift in gifts:\n",
    "        sender = gift.split()[0]\n",
    "        receiver = gift.split()[1]\n",
    "\n",
    "        gift_stats[sender][receiver] += 1\n",
    "    return max(answer.values())\n",
    "\n",
    "def calc_gift(gift_stat, user1, user2):\n",
    "    if gift_stat[user1][user2] > gift_stat[user2][user1]:\n",
    "        return user1\n",
    "    elif gift_stat[user1][user2] < gift_stat[user2][user1]:\n",
    "        return user2\n",
    "    else:\n",
    "        user1_giftscore = 0\n",
    "        user2_giftscore = 0\n",
    "\n",
    "        \n",
    "        return 0\n",
    "    \n",
    "friends = [\"muzi\", \"ryan\", \"frodo\", \"neo\"]\n",
    "gifts = [\"muzi frodo\", \"muzi frodo\", \"ryan muzi\", \"ryan muzi\", \"ryan muzi\", \"frodo muzi\", \"frodo ryan\", \"neo muzi\"]\n",
    "answer = dict()\n",
    "for friend in friends:\n",
    "    answer[friend] = dict()\n",
    "    for other_friend in friends:\n",
    "        if not friend == other_friend:\n",
    "            answer[friend][other_friend] = 0\n",
    "\n",
    "for gift in gifts:\n",
    "    sender = gift.split()[0]\n",
    "    receiver = gift.split()[1]\n",
    "\n",
    "    answer[sender][receiver] += 1\n",
    "\n",
    "print(answer)\n"
   ]
  },
  {
   "cell_type": "code",
   "execution_count": null,
   "metadata": {},
   "outputs": [],
   "source": []
  }
 ],
 "metadata": {
  "kernelspec": {
   "display_name": "Python 3",
   "language": "python",
   "name": "python3"
  },
  "language_info": {
   "codemirror_mode": {
    "name": "ipython",
    "version": 3
   },
   "file_extension": ".py",
   "mimetype": "text/x-python",
   "name": "python",
   "nbconvert_exporter": "python",
   "pygments_lexer": "ipython3",
   "version": "3.12.0"
  }
 },
 "nbformat": 4,
 "nbformat_minor": 2
}
