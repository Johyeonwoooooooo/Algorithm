{
 "cells": [
  {
   "cell_type": "markdown",
   "metadata": {},
   "source": [
    "# Day22 Programers\n",
    "\n",
    "Day22_1 : 0 떼기"
   ]
  },
  {
   "cell_type": "code",
   "execution_count": null,
   "metadata": {},
   "outputs": [],
   "source": [
    "def solution(n_str):    \n",
    "    idx = 0\n",
    "    for i, str in enumerate(n_str):\n",
    "        if not str == '0':\n",
    "            idx = i\n",
    "            break\n",
    "    \n",
    "    return n_str[idx:]\n",
    "\n",
    "# return n_str.strip('0') 00009812312401231000 ->  9812312401231\n",
    "# return n_str.lstrip('0') 00009812312401231000 -> 9812312401231000\n",
    "# return n_str.rstrip('0') 00009812312401231000 -> 00009812312401231"
   ]
  },
  {
   "cell_type": "markdown",
   "metadata": {},
   "source": [
    "Day22_2 : 두 수의 합"
   ]
  },
  {
   "cell_type": "code",
   "execution_count": null,
   "metadata": {},
   "outputs": [],
   "source": [
    "def solution(a, b):\n",
    "    return str(int(a) + int(b))"
   ]
  },
  {
   "cell_type": "markdown",
   "metadata": {},
   "source": [
    "Day22_3 : 문자열로 변환"
   ]
  },
  {
   "cell_type": "code",
   "execution_count": null,
   "metadata": {},
   "outputs": [],
   "source": [
    "def solution(n):\n",
    "    return str(n)"
   ]
  },
  {
   "cell_type": "markdown",
   "metadata": {},
   "source": [
    "Day22_4 : 배열의 원소 삭제하기"
   ]
  },
  {
   "cell_type": "code",
   "execution_count": null,
   "metadata": {},
   "outputs": [],
   "source": [
    "def solution(arr, delete_list):\n",
    "    return [num for num in arr if num not in delete_list]"
   ]
  },
  {
   "cell_type": "markdown",
   "metadata": {},
   "source": [
    "Day22_5 : 부분 문자열인지 확인하기"
   ]
  },
  {
   "cell_type": "code",
   "execution_count": null,
   "metadata": {},
   "outputs": [],
   "source": [
    "def solution(my_string, target):\n",
    "    return int(target in my_string)"
   ]
  },
  {
   "cell_type": "markdown",
   "metadata": {},
   "source": [
    "# Day23 Programers\n",
    "\n",
    "Day23_1 : 부분 문자열"
   ]
  },
  {
   "cell_type": "code",
   "execution_count": null,
   "metadata": {},
   "outputs": [],
   "source": [
    "def solution(str1, str2):\n",
    "    return int(str1 in str2)"
   ]
  },
  {
   "cell_type": "markdown",
   "metadata": {},
   "source": [
    "Day23_2 : 꼬리 문자열"
   ]
  },
  {
   "cell_type": "code",
   "execution_count": null,
   "metadata": {},
   "outputs": [],
   "source": [
    "def solution(str_list, ex):\n",
    "    answer = ''\n",
    "    for str in str_list:\n",
    "        if not ex in str:\n",
    "            answer += str\n",
    "    return answer\n",
    "\n",
    "#   return ''.join([i for i in str_list if ex not in i])"
   ]
  },
  {
   "cell_type": "markdown",
   "metadata": {},
   "source": [
    "Day23_3 : 정수 찾기"
   ]
  },
  {
   "cell_type": "code",
   "execution_count": null,
   "metadata": {},
   "outputs": [],
   "source": [
    "def solution(num_list, n):\n",
    "    return int(n in num_list)"
   ]
  },
  {
   "cell_type": "markdown",
   "metadata": {},
   "source": [
    "Day23_4 : 주사위 게임1"
   ]
  },
  {
   "cell_type": "code",
   "execution_count": null,
   "metadata": {},
   "outputs": [],
   "source": [
    "def solution(a, b):\n",
    "    if a % 2 == 0 and b % 2 == 0:\n",
    "        return abs(a-b)\n",
    "    elif a % 2 == 1 and b % 2 == 1:\n",
    "        return a*a + b*b\n",
    "    else:\n",
    "        return 2 * (a + b)"
   ]
  },
  {
   "cell_type": "markdown",
   "metadata": {},
   "source": [
    "Day23_5 : 날짜 비교하기"
   ]
  },
  {
   "cell_type": "code",
   "execution_count": null,
   "metadata": {},
   "outputs": [],
   "source": [
    "def solution(date1, date2):\n",
    "    \n",
    "    for i in range(3):\n",
    "        if date1[i] < date2[i]:\n",
    "            return 1\n",
    "        elif date1[i] > date2[i]:\n",
    "            return 0\n",
    "        \n",
    "    return 0\n",
    "\n",
    "# return int(date1 < date2)"
   ]
  }
 ],
 "metadata": {
  "language_info": {
   "name": "python"
  }
 },
 "nbformat": 4,
 "nbformat_minor": 2
}
