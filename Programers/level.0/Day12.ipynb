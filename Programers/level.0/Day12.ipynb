{
 "cells": [
  {
   "cell_type": "markdown",
   "metadata": {},
   "source": [
    "# Day12 Programers\n",
    "\n",
    "Day12_1 : 리스트 자르기"
   ]
  },
  {
   "cell_type": "code",
   "execution_count": 1,
   "metadata": {},
   "outputs": [],
   "source": [
    "def solution(n, slicer, num_list):\n",
    "    if n==1:\n",
    "        return num_list[:slicer[1]]\n",
    "    elif n==2:\n",
    "        return num_list[slicer[0]:]\n",
    "    elif n==3:\n",
    "        return num_list[slicer[0]:slicer[1]]\n",
    "    elif n==4:\n",
    "        return num_list[slicer[0]:slicer[1]:slicer[2]]"
   ]
  },
  {
   "cell_type": "markdown",
   "metadata": {},
   "source": [
    "Day12_2 : 첫번째로 나오는 음수"
   ]
  },
  {
   "cell_type": "code",
   "execution_count": 2,
   "metadata": {},
   "outputs": [],
   "source": [
    "def solution(num_list):\n",
    "    for i in range(len(num_list)):\n",
    "        if num_list[i] < 0:\n",
    "            return i\n",
    "    return -1"
   ]
  },
  {
   "cell_type": "markdown",
   "metadata": {},
   "source": [
    "Day12_3 : 배열 만들기 3"
   ]
  },
  {
   "cell_type": "code",
   "execution_count": 3,
   "metadata": {},
   "outputs": [],
   "source": [
    "def solution(arr, intervals):\n",
    "    answer = []\n",
    "    for interval in intervals:\n",
    "        answer += arr[interval[0]: interval[1]+1]\n",
    "    return answer"
   ]
  },
  {
   "cell_type": "markdown",
   "metadata": {},
   "source": [
    "Day12_4 : 2의 영역"
   ]
  },
  {
   "cell_type": "code",
   "execution_count": 4,
   "metadata": {},
   "outputs": [],
   "source": [
    "def solution(arr):\n",
    "    start = 0\n",
    "    end = 0\n",
    "\n",
    "    for i in range(len(arr)):\n",
    "        if arr[i] == 2:\n",
    "            if start ==0:\n",
    "                start = i\n",
    "            end = i\n",
    "\n",
    "    if start == 0:\n",
    "        return [-1]\n",
    "    else:\n",
    "         return arr[start:end+1]\n",
    "            "
   ]
  },
  {
   "cell_type": "markdown",
   "metadata": {},
   "source": [
    "Day12_5 : 배열 조각하기"
   ]
  },
  {
   "cell_type": "code",
   "execution_count": null,
   "metadata": {},
   "outputs": [],
   "source": [
    "def solution(arr, query):\n",
    "    answer = arr\n",
    "\n",
    "    for i in range (len(query)):\n",
    "        if i % 2 == 1:\n",
    "            answer = answer[query[i]:]\n",
    "        else:\n",
    "            answer = answer[:query[i]+1]\n",
    "    \n",
    "    return answer"
   ]
  }
 ],
 "metadata": {
  "kernelspec": {
   "display_name": "Python 3",
   "language": "python",
   "name": "python3"
  },
  "language_info": {
   "codemirror_mode": {
    "name": "ipython",
    "version": 3
   },
   "file_extension": ".py",
   "mimetype": "text/x-python",
   "name": "python",
   "nbconvert_exporter": "python",
   "pygments_lexer": "ipython3",
   "version": "3.12.0"
  }
 },
 "nbformat": 4,
 "nbformat_minor": 2
}
