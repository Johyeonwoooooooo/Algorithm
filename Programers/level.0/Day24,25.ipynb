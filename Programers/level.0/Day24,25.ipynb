{
 "cells": [
  {
   "cell_type": "markdown",
   "metadata": {},
   "source": [
    "# Day24 Programers\n",
    "\n",
    "Day24_1 : 커피 심부름"
   ]
  },
  {
   "cell_type": "code",
   "execution_count": 1,
   "metadata": {},
   "outputs": [],
   "source": [
    "def solution(order):\n",
    "    answer = 0\n",
    "    for coffee in order:\n",
    "        if 'latte' in coffee:\n",
    "            answer += 5000\n",
    "        else:\n",
    "            answer += 4500\n",
    "            \n",
    "    return answer"
   ]
  },
  {
   "cell_type": "markdown",
   "metadata": {},
   "source": [
    "Day24_2 : 그림 확대"
   ]
  },
  {
   "cell_type": "code",
   "execution_count": 5,
   "metadata": {},
   "outputs": [],
   "source": [
    "def solution(picture, k):\n",
    "    copy_pixel =''\n",
    "    pixel_arr = []\n",
    "    for pixel in picture:\n",
    "        for pix in pixel:\n",
    "            copy_pixel += pix * k\n",
    "            \n",
    "        pixel_arr.extend([copy_pixel] * k)\n",
    "        copy_pixel=''\n",
    "    return pixel_arr"
   ]
  },
  {
   "cell_type": "markdown",
   "metadata": {},
   "source": [
    "Day24_3 : 조건에 맞게 수열 수정3"
   ]
  },
  {
   "cell_type": "code",
   "execution_count": 6,
   "metadata": {},
   "outputs": [],
   "source": [
    "def solution(arr, k):\n",
    "    if k % 2 == 1:\n",
    "        return [ele * k for ele in arr]\n",
    "    else:\n",
    "        return [ele + k for ele in arr]"
   ]
  },
  {
   "cell_type": "markdown",
   "metadata": {},
   "source": [
    "Day24_4 : l로 만들기"
   ]
  },
  {
   "cell_type": "code",
   "execution_count": 7,
   "metadata": {},
   "outputs": [],
   "source": [
    "def solution(myString):\n",
    "    return ''.join(['l' if alp < 'l' else alp for alp in myString])"
   ]
  },
  {
   "cell_type": "markdown",
   "metadata": {},
   "source": [
    "Day24_5 : 특별한 이차별 배열1"
   ]
  },
  {
   "cell_type": "code",
   "execution_count": 8,
   "metadata": {},
   "outputs": [],
   "source": [
    "def solution(n):\n",
    "    answer = [[0] * n for i in range(n)]\n",
    "    for i in range(n):\n",
    "        answer[i][i] = 1\n",
    "    return answer"
   ]
  },
  {
   "cell_type": "markdown",
   "metadata": {},
   "source": [
    "# Day25 Programers\n",
    "\n",
    "Day25_1 : 정수를 나선형으로 배치하기"
   ]
  },
  {
   "cell_type": "code",
   "execution_count": 15,
   "metadata": {},
   "outputs": [],
   "source": [
    "def solution(n):\n",
    "    answer = [[0] * n for i in range(n)]\n",
    "    row = 0\n",
    "    col = 0\n",
    "    num = 1\n",
    "    mode = 0\n",
    "    \n",
    "    for i in range(n):\n",
    "        answer[row][col] = num\n",
    "        num += 1\n",
    "        col += 1\n",
    "        \n",
    "    col = n - 1\n",
    "    \n",
    "    for i in range(n-1, 0, -1):\n",
    "        if mode == 0:\n",
    "            for j in range(i):\n",
    "                row += 1\n",
    "                answer[row][col] = num\n",
    "                num += 1\n",
    "            \n",
    "            for j in range(i):\n",
    "                col -= 1\n",
    "                answer[row][col] = num\n",
    "                num += 1\n",
    "                \n",
    "            mode = 1\n",
    "        else:\n",
    "            for j in range(i):\n",
    "                row -= 1\n",
    "                answer[row][col] = num\n",
    "                num += 1\n",
    "            \n",
    "            for j in range(i):\n",
    "                col += 1\n",
    "                answer[row][col] = num\n",
    "                num += 1\n",
    "            \n",
    "            mode = 0\n",
    "\n",
    "    return answer"
   ]
  },
  {
   "cell_type": "markdown",
   "metadata": {},
   "source": [
    "Day25_2 : 특별한 이차원 배열"
   ]
  },
  {
   "cell_type": "code",
   "execution_count": 17,
   "metadata": {},
   "outputs": [],
   "source": [
    "def solution(arr):\n",
    "    probe = True\n",
    "    for i in range(len(arr)):\n",
    "        for j in range(i, len(arr)):\n",
    "            if arr[i][j] != arr[j][i]:\n",
    "                probe = False\n",
    "                break\n",
    "            \n",
    "    return int(probe)"
   ]
  },
  {
   "cell_type": "markdown",
   "metadata": {},
   "source": [
    "Day25_3 : 정사각형 만들기"
   ]
  },
  {
   "cell_type": "code",
   "execution_count": 19,
   "metadata": {},
   "outputs": [],
   "source": [
    "def solution(arr):\n",
    "    answer = arr.copy()\n",
    "    \n",
    "    row = len(arr)\n",
    "    col = max([len(ele) for ele in arr])\n",
    "    \n",
    "    if col > row:\n",
    "        answer.extend([[0] * col] * (col - row))\n",
    "        \n",
    "    elif row > col:\n",
    "        for element in answer:\n",
    "            element.extend([0] * (row - col))\n",
    "            \n",
    "    return answer"
   ]
  },
  {
   "cell_type": "markdown",
   "metadata": {},
   "source": [
    "Day25_4 : 이차원 배열 대각선 순회하기"
   ]
  },
  {
   "cell_type": "code",
   "execution_count": 20,
   "metadata": {},
   "outputs": [],
   "source": [
    "def solution(board, k):\n",
    "    answer = 0\n",
    "    for i in range(len(board)):\n",
    "        for j in range(len(board[i])):\n",
    "            if i+j <= k:\n",
    "                answer += board[i][j]\n",
    "    \n",
    "    return answer"
   ]
  },
  {
   "cell_type": "code",
   "execution_count": null,
   "metadata": {},
   "outputs": [],
   "source": []
  }
 ],
 "metadata": {
  "kernelspec": {
   "display_name": "Python 3",
   "language": "python",
   "name": "python3"
  },
  "language_info": {
   "codemirror_mode": {
    "name": "ipython",
    "version": 3
   },
   "file_extension": ".py",
   "mimetype": "text/x-python",
   "name": "python",
   "nbconvert_exporter": "python",
   "pygments_lexer": "ipython3",
   "version": "3.12.0"
  }
 },
 "nbformat": 4,
 "nbformat_minor": 2
}
