{
 "cells": [
  {
   "cell_type": "markdown",
   "metadata": {},
   "source": [
    "# Day20 Programers\n",
    "\n",
    "Day20_1 : 배열의 길이 2의제곱"
   ]
  },
  {
   "cell_type": "code",
   "execution_count": null,
   "metadata": {},
   "outputs": [],
   "source": [
    "import math\n",
    "def solution(arr):\n",
    "    answer = arr\n",
    "    count = 0\n",
    "    \n",
    "    while len(answer) > math.pow(2,count):\n",
    "        count += 1\n",
    "        \n",
    "    for i in range(int(math.pow(2,count)) - len(answer)):\n",
    "        answer.append(0)\n",
    "        \n",
    "    return answer"
   ]
  },
  {
   "cell_type": "markdown",
   "metadata": {},
   "source": [
    "Day20_2 : 배열 비교하기"
   ]
  },
  {
   "cell_type": "code",
   "execution_count": null,
   "metadata": {},
   "outputs": [],
   "source": [
    "def solution(arr1, arr2):\n",
    "    result = 1\n",
    "    \n",
    "    if len(arr2) > len(arr1):\n",
    "        result = -result\n",
    "    elif len(arr1) == len(arr2) and sum(arr1) == sum(arr2):\n",
    "        result = 0\n",
    "    elif len(arr1) == len(arr2) and sum(arr2) > sum(arr1):\n",
    "        result = -result\n",
    "        \n",
    "    return result\n",
    "    "
   ]
  },
  {
   "cell_type": "markdown",
   "metadata": {},
   "source": [
    "Day20_3 : 문자열 묶기"
   ]
  },
  {
   "cell_type": "code",
   "execution_count": null,
   "metadata": {},
   "outputs": [],
   "source": [
    "def solution(strArr):\n",
    "    arr = [0 for i in range(30)]\n",
    "    for str in strArr:\n",
    "        arr[len(str) - 1] += 1\n",
    "        \n",
    "    return max(arr)"
   ]
  },
  {
   "cell_type": "markdown",
   "metadata": {},
   "source": [
    "Day20_4 : 배열 길에 따른 차등연산"
   ]
  },
  {
   "cell_type": "code",
   "execution_count": null,
   "metadata": {},
   "outputs": [],
   "source": [
    "def solution(arr, n):\n",
    "    answer = arr\n",
    "    \n",
    "    if len(answer) % 2 == 0:\n",
    "        answer[1::2] = [x+n for x in arr[1::2]]\n",
    "    else :\n",
    "        answer[::2] = [x+n for x in arr[::2]]\n",
    "        \n",
    "    return answer\n",
    "        "
   ]
  },
  {
   "cell_type": "markdown",
   "metadata": {},
   "source": [
    "Day20_5 : 뒤에서 5등까지"
   ]
  },
  {
   "cell_type": "code",
   "execution_count": null,
   "metadata": {},
   "outputs": [],
   "source": [
    "def solution(num_list):\n",
    "    return sorted(num_list)[:5]"
   ]
  },
  {
   "cell_type": "markdown",
   "metadata": {},
   "source": [
    "# Day21 Programers \n",
    "\n",
    "Day21_1 : 뒤에서 5등 위로"
   ]
  },
  {
   "cell_type": "code",
   "execution_count": null,
   "metadata": {},
   "outputs": [],
   "source": [
    "def solution(num_list):\n",
    "    return sorted(num_list)[5:]"
   ]
  },
  {
   "cell_type": "markdown",
   "metadata": {},
   "source": [
    "Day21_2 : 전국 대회 선별 고사"
   ]
  },
  {
   "cell_type": "code",
   "execution_count": null,
   "metadata": {},
   "outputs": [],
   "source": [
    "def solution(rank, attendance):\n",
    "    answer = 0\n",
    "    \n",
    "    for i in range(len(attendance)):\n",
    "        if not attendance[i]:\n",
    "            rank[i] = 101\n",
    "\n",
    "    for i in range(3):\n",
    "        answer *= 100\n",
    "        answer += rank.index(min(rank))\n",
    "        rank[rank.index(min(rank))] = 101\n",
    "        \n",
    "    return answer"
   ]
  },
  {
   "cell_type": "markdown",
   "metadata": {},
   "source": [
    "Day21_3 : 정수부분"
   ]
  },
  {
   "cell_type": "code",
   "execution_count": null,
   "metadata": {},
   "outputs": [],
   "source": [
    "def solution(flo):\n",
    "    return int(flo)"
   ]
  },
  {
   "cell_type": "markdown",
   "metadata": {},
   "source": [
    "Day21_4 : 문자열의 정수합"
   ]
  },
  {
   "cell_type": "code",
   "execution_count": null,
   "metadata": {},
   "outputs": [],
   "source": [
    "def solution(num_str):\n",
    "    answer = 0\n",
    "    for num in num_str:\n",
    "        answer += int(num)\n",
    "        \n",
    "    return answer"
   ]
  },
  {
   "cell_type": "markdown",
   "metadata": {},
   "source": [
    "Day21_5 : 문자열을 정수로 변환하기"
   ]
  },
  {
   "cell_type": "code",
   "execution_count": null,
   "metadata": {},
   "outputs": [],
   "source": [
    "def solution(n_str):\n",
    "    return int(n_str)"
   ]
  }
 ],
 "metadata": {
  "language_info": {
   "name": "python"
  }
 },
 "nbformat": 4,
 "nbformat_minor": 2
}
