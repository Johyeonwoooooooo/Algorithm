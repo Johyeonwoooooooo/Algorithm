{
 "cells": [
  {
   "cell_type": "markdown",
   "metadata": {},
   "source": [
    "# Day11 Programers\n",
    "\n",
    "Day11_1 : 문자 개수 세기"
   ]
  },
  {
   "cell_type": "code",
   "execution_count": 7,
   "metadata": {},
   "outputs": [],
   "source": [
    "def solution(my_string):\n",
    "    answer = dict()\n",
    "\n",
    "    for i in range(ord('A'), ord('Z') + 1):\n",
    "        answer[chr(i)] = 0\n",
    "    for i in range(ord('a'), ord('z') + 1):\n",
    "        answer[chr(i)] = 0\n",
    "\n",
    "    for ch in my_string:\n",
    "            answer[ch] += 1\n",
    "    \n",
    "    return list(answer.values())"
   ]
  },
  {
   "cell_type": "markdown",
   "metadata": {},
   "source": [
    "Day 11_2 : 배열만들기1"
   ]
  },
  {
   "cell_type": "code",
   "execution_count": 3,
   "metadata": {},
   "outputs": [],
   "source": [
    "def solution(n, k):\n",
    "    answer = []\n",
    "    for i in range(1, n+1):\n",
    "        if i % k == 0:\n",
    "            answer.append(i)\n",
    "    return answer"
   ]
  },
  {
   "cell_type": "markdown",
   "metadata": {},
   "source": [
    "Day 11_3 : 글자 지우기"
   ]
  },
  {
   "cell_type": "code",
   "execution_count": 4,
   "metadata": {},
   "outputs": [],
   "source": [
    "def solution(my_string, indices):\n",
    "    answer = \"\"\n",
    "    num_arr = [i for i in range(len(my_string))]\n",
    "    for i in indices:\n",
    "        num_arr.remove(i)\n",
    "    \n",
    "    for i in num_arr:\n",
    "        answer += my_string[i]\n",
    "\n",
    "    return answer"
   ]
  },
  {
   "cell_type": "markdown",
   "metadata": {},
   "source": [
    "Day 11_4 : 카운트 다운"
   ]
  },
  {
   "cell_type": "code",
   "execution_count": 5,
   "metadata": {},
   "outputs": [],
   "source": [
    "def solution(start, end_num):\n",
    "    answer = [i for i in range (end_num, start+1)]\n",
    "    return answer[:: -1]"
   ]
  },
  {
   "cell_type": "markdown",
   "metadata": {},
   "source": [
    "Day 11_5 : 가까운 1 찾기"
   ]
  },
  {
   "cell_type": "code",
   "execution_count": 6,
   "metadata": {},
   "outputs": [],
   "source": [
    "def solution(arr, idx):\n",
    "    answer = -1\n",
    "    \n",
    "    for i in range (idx , len(arr)):\n",
    "        if arr[i] == 1:\n",
    "            answer = i\n",
    "            break\n",
    "    \n",
    "    return answer"
   ]
  }
 ],
 "metadata": {
  "kernelspec": {
   "display_name": "Python 3",
   "language": "python",
   "name": "python3"
  },
  "language_info": {
   "codemirror_mode": {
    "name": "ipython",
    "version": 3
   },
   "file_extension": ".py",
   "mimetype": "text/x-python",
   "name": "python",
   "nbconvert_exporter": "python",
   "pygments_lexer": "ipython3",
   "version": "3.12.0"
  }
 },
 "nbformat": 4,
 "nbformat_minor": 2
}
