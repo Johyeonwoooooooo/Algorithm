{
 "cells": [
  {
   "cell_type": "markdown",
   "metadata": {},
   "source": [
    "# Day18 Programers\n",
    "\n",
    "Day18_1 : x사이의 개수"
   ]
  },
  {
   "cell_type": "code",
   "execution_count": 1,
   "metadata": {},
   "outputs": [],
   "source": [
    "def solution(myString):\n",
    "    return [len(string) for string in myString.split('x')]"
   ]
  },
  {
   "cell_type": "markdown",
   "metadata": {},
   "source": [
    "Day18_2 : 문자열 잘라서 정렬하기"
   ]
  },
  {
   "cell_type": "code",
   "execution_count": 2,
   "metadata": {},
   "outputs": [],
   "source": [
    "def solution(myString):\n",
    "    return sorted([string for string in myString.split('x') if string != \"\"])"
   ]
  },
  {
   "cell_type": "markdown",
   "metadata": {},
   "source": [
    "Day18_3 : 간단한 식 계산하기"
   ]
  },
  {
   "cell_type": "code",
   "execution_count": 3,
   "metadata": {},
   "outputs": [],
   "source": [
    "def solution(binomial):\n",
    "    opers = binomial.split(' ')\n",
    "    return eval(opers[0] + opers[1] + opers[2])"
   ]
  },
  {
   "cell_type": "markdown",
   "metadata": {},
   "source": [
    "Day18_4 : 문자열 바꿔서 찾기"
   ]
  },
  {
   "cell_type": "code",
   "execution_count": null,
   "metadata": {},
   "outputs": [],
   "source": [
    "def solution(myString, pat):\n",
    "    table = str.maketrans({'A': 'B', 'B': 'A'})\n",
    "    replacedString = myString.translate(table)\n",
    "    if pat in replacedString:\n",
    "        return 1\n",
    "    else:\n",
    "        return 0\n",
    "    \n",
    "# return int(if pat in myString.replace('A','@').replace('B','A').replace('@','B'))"
   ]
  },
  {
   "cell_type": "markdown",
   "metadata": {},
   "source": [
    "Day18_5 : rmy_string"
   ]
  },
  {
   "cell_type": "code",
   "execution_count": null,
   "metadata": {},
   "outputs": [],
   "source": [
    "def solution(rny_string):\n",
    "    return rny_string.replace('m','rn')"
   ]
  },
  {
   "cell_type": "markdown",
   "metadata": {},
   "source": [
    "# Day19 Programers\n",
    "\n",
    "Day19_1 : 세 개의 구분자"
   ]
  },
  {
   "cell_type": "code",
   "execution_count": 4,
   "metadata": {},
   "outputs": [],
   "source": [
    "def solution(myStr):\n",
    "    list = myStr.replace('a',' ').replace('b',' ').replace('c',' ').split(' ')\n",
    "    str = [ch for ch in list if ch]\n",
    "    if str == []: \n",
    "        return [\"EMPTY\"]\n",
    "    else: \n",
    "        return str\n",
    "            "
   ]
  },
  {
   "cell_type": "markdown",
   "metadata": {},
   "source": [
    "Day19_2 : 배열의 원소만큼 추가하기"
   ]
  },
  {
   "cell_type": "code",
   "execution_count": 6,
   "metadata": {},
   "outputs": [],
   "source": [
    "def solution(arr):\n",
    "    answer = []\n",
    "    for num in arr:\n",
    "        answer.extend([num] * num)\n",
    "    \n",
    "    return answer"
   ]
  },
  {
   "cell_type": "markdown",
   "metadata": {},
   "source": [
    "Day19_3 : 빈 배열에 추가, 삭제하기"
   ]
  },
  {
   "cell_type": "code",
   "execution_count": 7,
   "metadata": {},
   "outputs": [],
   "source": [
    "def solution(arr, flag):\n",
    "    answer = []\n",
    "    for idx in range(len(arr)):\n",
    "        if flag[idx]:\n",
    "            answer.extend([arr[idx]] * 2 * arr[idx])\n",
    "        else:\n",
    "            for i in range(arr[idx]):\n",
    "                answer.pop()\n",
    "    return answer"
   ]
  },
  {
   "cell_type": "markdown",
   "metadata": {},
   "source": [
    "Day19_4 : 배열 만들기 6"
   ]
  },
  {
   "cell_type": "code",
   "execution_count": 8,
   "metadata": {},
   "outputs": [],
   "source": [
    "def solution(arr):\n",
    "    answer = []\n",
    "    for ele in arr:\n",
    "        if answer == []:\n",
    "            answer.append(ele)\n",
    "        elif answer[-1] == ele:\n",
    "            answer.pop()\n",
    "        else:\n",
    "            answer.append(ele)\n",
    "    if answer == []:\n",
    "        answer = [-1]\n",
    "        \n",
    "    return answer"
   ]
  },
  {
   "cell_type": "markdown",
   "metadata": {},
   "source": [
    "Day19_5 : 무작위로 k개의 수 뽑기"
   ]
  },
  {
   "cell_type": "code",
   "execution_count": 13,
   "metadata": {},
   "outputs": [],
   "source": [
    "def solution(arr, k):\n",
    "    answer = []\n",
    "    for num in arr:\n",
    "        if num not in answer:\n",
    "            answer.append(num)\n",
    "    \n",
    "    if len(answer) < k :\n",
    "        answer.extend([-1] * (k - len(answer)))\n",
    "                      \n",
    "    return answer[:k]"
   ]
  }
 ],
 "metadata": {
  "kernelspec": {
   "display_name": "Python 3",
   "language": "python",
   "name": "python3"
  },
  "language_info": {
   "codemirror_mode": {
    "name": "ipython",
    "version": 3
   },
   "file_extension": ".py",
   "mimetype": "text/x-python",
   "name": "python",
   "nbconvert_exporter": "python",
   "pygments_lexer": "ipython3",
   "version": "3.12.0"
  }
 },
 "nbformat": 4,
 "nbformat_minor": 2
}
