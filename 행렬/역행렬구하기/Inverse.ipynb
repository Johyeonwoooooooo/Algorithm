{
 "cells": [
  {
   "cell_type": "markdown",
   "id": "c253b40e-000f-4ce1-85de-7980151856d9",
   "metadata": {},
   "source": [
    "# 수반행렬 사용해 역행렬 구하기"
   ]
  },
  {
   "cell_type": "code",
   "execution_count": 19,
   "id": "2d0474d5-8a48-4bec-b4cd-dcba58630e89",
   "metadata": {},
   "outputs": [
    {
     "name": "stdin",
     "output_type": "stream",
     "text": [
      "n * n Matrix; n?  3\n",
      " 1 2 3\n",
      " 4 5 6\n",
      "  7 8 2\n"
     ]
    },
    {
     "name": "stdout",
     "output_type": "stream",
     "text": [
      "\n",
      "Inverse Matrix:\n",
      "[[-1.80952381  0.95238095 -0.14285714]\n",
      " [ 1.61904762 -0.9047619   0.28571429]\n",
      " [-0.14285714  0.28571429 -0.14285714]]\n"
     ]
    }
   ],
   "source": [
    "import numpy as np\n",
    "\n",
    "# 원하는 {row}행, {col}열을 지우고 새로운 matrix를 반환\n",
    "def delete_element(matrix, row, col):\n",
    "    new_matrix = np.delete(np.delete(matrix, row, axis=0), col, axis=1)\n",
    "    return new_matrix\n",
    "    \n",
    "n = int(input(\"n * n Matrix; n? \")) # n 입력받기\n",
    "\n",
    "elements = [list(map(int, input().split())) for _ in range(n)] # 행렬 성분 입력받기\n",
    "matrix = np.array(elements) # 배열을 행렬로 변환\n",
    "\n",
    "if np.linalg.det(matrix) != 0 : # detMatrix != 0 일 때만 역행렬 계산시작 \n",
    "    adjMatrix = np.eye(n) # n * n 행렬 생성\n",
    "    for i in range(0,n): \n",
    "        for j in range(0,n):\n",
    "            adjMatrix[i][j] = np.linalg.det(delete_element(matrix, i, j)) # i행, j행 삭제한 행렬의 행렬식을 구하고 저장\n",
    "            if (i+j) % 2 != 0: # 홀수일시 -1 곱함\n",
    "                adjMatrix[i][j] = -adjMatrix[i][j]\n",
    "    \n",
    "    adjMatrix = np.array(adjMatrix) # 행렬로 변환\n",
    "    adjMatrix = adjMatrix.T # 전치시킴\n",
    "    inverse = (1 / np.linalg.det(matrix)) * adjMatrix # 역행렬 구하기\n",
    "    \n",
    "    print(\"\\nInverse Matrix:\")\n",
    "    print(inverse)\n",
    "    \n",
    "else: # 역행렬 존재 X\n",
    "    print(\"detMatrix = 0, Don't have inverse\")"
   ]
  },
  {
   "cell_type": "markdown",
   "id": "8567f29d-c957-4e71-9430-da45e2a2e666",
   "metadata": {},
   "source": [
    "# 가우스 조던 이용해 역행렬 구하기"
   ]
  },
  {
   "cell_type": "code",
   "execution_count": 20,
   "id": "e9415497-7638-4e6c-9eb0-4b110b293370",
   "metadata": {},
   "outputs": [
    {
     "name": "stdin",
     "output_type": "stream",
     "text": [
      "n * n Matrix; n?  3\n",
      " 1 2 3\n",
      " 4 5 6\n",
      " 7 8 2\n"
     ]
    },
    {
     "name": "stdout",
     "output_type": "stream",
     "text": [
      "\n",
      "Inverse Matrix:\n",
      "[[-1.80952381  0.95238095 -0.14285714]\n",
      " [ 1.61904762 -0.9047619   0.28571429]\n",
      " [-0.14285714  0.28571429 -0.14285714]]\n"
     ]
    }
   ],
   "source": [
    "# 가우스 조던을 적용할 수 있는지 체크하는 함수 : 해당 열이 모두 0이거나, 한 행이 모두 0 일 때 None을 반환함\n",
    "def check_Matrix(matrix, index, num): \n",
    "    row_check = True\n",
    "    col_zero_num = 0\n",
    "    for i in range(index, num):\n",
    "        if matrix[i][index] == 0: \n",
    "            col_zero_num += 1\n",
    "            \n",
    "        if all(matrix[i, :] == 0):\n",
    "            row_check = False\n",
    "            \n",
    "    if col_zero_num == (num - index) or not row_check:\n",
    "        return None\n",
    "        \n",
    "    return 1\n",
    "\n",
    "# Gauss_Jordan의 계산 한 번을 해당 행렬에 적용하는 함수\n",
    "def apply_Gauss_Jordan(matrix, index,num):\n",
    "    # 해당 열에서 성분이 0이 아닌 첫 행을 찾고, 해당 행을 pivot_row로 설정\n",
    "    for i in range(index, num):\n",
    "        if matrix[i][index] != 0:\n",
    "            pivot_row = i\n",
    "            break\n",
    "\n",
    "    matrix[pivot_row] = matrix[pivot_row] / matrix[pivot_row, index]  # pivot_row 행을, [pivot_row행, index열]의 성분으로 나눔(선행 1 만들기)\n",
    "    matrix[[index, pivot_row]] = matrix[[pivot_row, index]]     # 해당 pivot_row를 알맞는 행으로 교환함\n",
    "\n",
    "    for i in range(0, num):\n",
    "        if matrix[i, index] != 0 and i != index: # [모든 행, index열]의 성분이 0이 아닐 때만\n",
    "            matrix[i] = matrix[i] + (-matrix[i][index] * matrix[index]) # pivot_row행의 실수 배 덧셈을 통해 0으로 만듦\n",
    "\n",
    "# Gauss_Jordan을 끝까지 수행하고 역행렬을 반환해주는 함수\n",
    "def inverse_matrix(matrix, num):\n",
    "    identity_matrix = np.eye(num) # num * num 단위행렬을 만듦\n",
    "    augmented_matrix = np.hstack([matrix, identity_matrix]) # matrix : I 를 만듦\n",
    "\n",
    "    # 모든 열에 대해 진행함\n",
    "    for index in range(0, num): \n",
    "        # Matrix를 검사 하고 문제가 있으면 None을 반환하고 함수 종료\n",
    "        if check_Matrix(augmented_matrix, index, num) is None:\n",
    "            return None\n",
    "        # 해당 열에 대한 연산을 실행\n",
    "        apply_Gauss_Jordan(augmented_matrix, index, num) is None\n",
    "\n",
    "    # num열 이후 (단위행렬이었던 자리)를 리턴함  \n",
    "    return augmented_matrix[:, num:]\n",
    "\n",
    "n = int(input(\"n * n Matrix; n? \")) # n 입력받기\n",
    "\n",
    "elements = [list(map(int, input().split())) for _ in range(n)] # 행렬 성분 입력받기\n",
    "matrix = np.array(elements) # 배열을 행렬로 변환\n",
    "\n",
    "inverse_matrix_result = inverse_matrix(matrix, n) # 역행렬 만들기\n",
    "\n",
    "if inverse_matrix_result is not None: # 역행렬이 존재하면 출력\n",
    "    print(\"\\nInverse Matrix:\") \n",
    "    print(inverse_matrix_result)\n",
    "else: # 역행렬이 없다면 에러 출력\n",
    "    print(\"Don't have inverse.\")\n"
   ]
  },
  {
   "cell_type": "code",
   "execution_count": null,
   "id": "fadab87f-e992-4663-bd79-3863938d4d6c",
   "metadata": {},
   "outputs": [],
   "source": []
  }
 ],
 "metadata": {
  "kernelspec": {
   "display_name": "Python 3 (ipykernel)",
   "language": "python",
   "name": "python3"
  },
  "language_info": {
   "codemirror_mode": {
    "name": "ipython",
    "version": 3
   },
   "file_extension": ".py",
   "mimetype": "text/x-python",
   "name": "python",
   "nbconvert_exporter": "python",
   "pygments_lexer": "ipython3",
   "version": "3.12.0"
  }
 },
 "nbformat": 4,
 "nbformat_minor": 5
}
