{
 "cells": [
  {
   "cell_type": "code",
   "execution_count": 66,
   "id": "2d0474d5-8a48-4bec-b4cd-dcba58630e89",
   "metadata": {},
   "outputs": [
    {
     "name": "stdout",
     "output_type": "stream",
     "text": [
      "\n",
      "Inverse Matrix:\n",
      "[[-1.80952381  0.95238095 -0.14285714]\n",
      " [ 1.61904762 -0.9047619   0.28571429]\n",
      " [-0.14285714  0.28571429 -0.14285714]]\n"
     ]
    }
   ],
   "source": [
    "## 수반행렬 사용하여 역행렬 구하기\n",
    "import numpy as np\n",
    "\n",
    "## 원하는 행, 열을 지우고 새로운 matrix를 반환\n",
    "def delete_element(matrix, row, col):\n",
    "    new_matrix = np.delete(np.delete(matrix, row, axis=0), col, axis=1)\n",
    "    return new_matrix\n",
    "    \n",
    "elements = [[1,2,3],[4,5,6],[7,8,2]]\n",
    "matrix = np.array(elements)\n",
    "\n",
    "if np.linalg.det(matrix) != 0 : # detMatrix != 0 일 때만 역행렬 계산시작 \n",
    "    adjMatrix = [[0,0,0],[0,0,0],[0,0,0]]\n",
    "    for i in range(0,3):\n",
    "        for j in range(0,3):\n",
    "            adjMatrix[i][j] = np.linalg.det(delete_element(matrix, i, j)) # i행, j행 삭제하고 행렬식을 구함\n",
    "            if (i+j) % 2 != 0: # 홀수일시 -1 곱함\n",
    "                adjMatrix[i][j] = -adjMatrix[i][j]\n",
    "    \n",
    "    adjMatrix = np.array(adjMatrix) # 행렬로 변환\n",
    "    adjMatrix = adjMatrix.T # 전치시킴\n",
    "    inverse = (1 / np.linalg.det(matrix)) * adjMatrix # 역행렬 구하기\n",
    "    \n",
    "    print(\"\\nInverse Matrix:\")\n",
    "    print(inverse)\n",
    "    \n",
    "else: # 역행렬 존재 X\n",
    "    print(\"detMatrix = 0, Don't have inverse\")"
   ]
  },
  {
   "cell_type": "code",
   "execution_count": 90,
   "id": "e9415497-7638-4e6c-9eb0-4b110b293370",
   "metadata": {},
   "outputs": [
    {
     "name": "stdout",
     "output_type": "stream",
     "text": [
      "Don't have inverse.\n"
     ]
    }
   ],
   "source": [
    "import numpy as np\n",
    "\n",
    "def check_Gauss_Jordan(matrix, index):\n",
    "    row_check = True\n",
    "    col_zero_num = 0\n",
    "    for i in range(0, 3):\n",
    "        if matrix[i][index] == 0: \n",
    "            col_zero_num += 1\n",
    "        if all(matrix[i, index:] == 0):\n",
    "            row_check = False\n",
    "            \n",
    "    if col_zero_num == 3 or not row_check:\n",
    "        return None\n",
    "        \n",
    "    return 1\n",
    "\n",
    "def apply_Gauss_Jordan(matrix, index):\n",
    "    pivot_row = np.argmax(np.abs(matrix[index:, index])) + index\n",
    "\n",
    "    if matrix[pivot_row, index] == 0:\n",
    "        return None  # Avoid division by zero\n",
    "\n",
    "    matrix[[index, pivot_row], :] = matrix[[pivot_row, index], :]\n",
    "\n",
    "    matrix[index, :] /= matrix[index, index]\n",
    "\n",
    "    for i in range(3):\n",
    "        if i != index:\n",
    "            matrix[i, :] -= matrix[i, index] * matrix[index, :]\n",
    "\n",
    "def inverse_matrix(matrix):\n",
    "    identity_matrix = np.eye(3)\n",
    "    augmented_matrix = np.hstack([matrix, identity_matrix])\n",
    "\n",
    "    for index in range(0, 3):\n",
    "        if check_Gauss_Jordan(augmented_matrix, index) is None or \\\n",
    "                apply_Gauss_Jordan(augmented_matrix, index) is None:\n",
    "            return None\n",
    "\n",
    "    return augmented_matrix[:, 3:]\n",
    "\n",
    "elements = [[1, 2, 3], [4, 5, 6], [7, 8, 2]]\n",
    "matrix = np.array(elements)\n",
    "\n",
    "inverse_matrix_result = inverse_matrix(matrix)\n",
    "\n",
    "if inverse_matrix_result is not None:\n",
    "    print(\"\\nInverse Matrix:\")\n",
    "    print(inverse_matrix_result)\n",
    "else:\n",
    "    print(\"Don't have inverse.\")\n"
   ]
  },
  {
   "cell_type": "code",
   "execution_count": null,
   "id": "6401ebac-179f-4336-9bfb-ab6df148e31b",
   "metadata": {},
   "outputs": [],
   "source": []
  }
 ],
 "metadata": {
  "kernelspec": {
   "display_name": "Python 3 (ipykernel)",
   "language": "python",
   "name": "python3"
  },
  "language_info": {
   "codemirror_mode": {
    "name": "ipython",
    "version": 3
   },
   "file_extension": ".py",
   "mimetype": "text/x-python",
   "name": "python",
   "nbconvert_exporter": "python",
   "pygments_lexer": "ipython3",
   "version": "3.12.0"
  }
 },
 "nbformat": 4,
 "nbformat_minor": 5
}
